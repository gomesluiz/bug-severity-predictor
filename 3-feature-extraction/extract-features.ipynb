{
 "cells": [
  {
   "cell_type": "code",
   "execution_count": 47,
   "id": "handy-bristol",
   "metadata": {},
   "outputs": [],
   "source": [
    "import logging \n",
    "import os\n",
    "\n",
    "import numpy as np\n",
    "import pandas as pd\n",
    "import torch\n",
    "import transformers as ppb\n",
    "\n",
    "from sklearn.model_selection import train_test_split"
   ]
  },
  {
   "cell_type": "code",
   "execution_count": 48,
   "id": "arranged-centre",
   "metadata": {},
   "outputs": [],
   "source": [
    "reports_file_path = '../data/clean/mozilla_bug_report_data.csv'\n",
    "reports_data = pd.read_csv(reports_file_path)"
   ]
  },
  {
   "cell_type": "code",
   "execution_count": 49,
   "id": "scheduled-definition",
   "metadata": {},
   "outputs": [
    {
     "data": {
      "text/html": [
       "<div>\n",
       "<style scoped>\n",
       "    .dataframe tbody tr th:only-of-type {\n",
       "        vertical-align: middle;\n",
       "    }\n",
       "\n",
       "    .dataframe tbody tr th {\n",
       "        vertical-align: top;\n",
       "    }\n",
       "\n",
       "    .dataframe thead th {\n",
       "        text-align: right;\n",
       "    }\n",
       "</style>\n",
       "<table border=\"1\" class=\"dataframe\">\n",
       "  <thead>\n",
       "    <tr style=\"text-align: right;\">\n",
       "      <th></th>\n",
       "      <th>long_description</th>\n",
       "      <th>severity_code</th>\n",
       "    </tr>\n",
       "  </thead>\n",
       "  <tbody>\n",
       "    <tr>\n",
       "      <th>0</th>\n",
       "      <td>is broken many users can t enter bugs on it p...</td>\n",
       "      <td>4</td>\n",
       "    </tr>\n",
       "    <tr>\n",
       "      <th>1</th>\n",
       "      <td>adding support for custom headers and cookie n...</td>\n",
       "      <td>4</td>\n",
       "    </tr>\n",
       "    <tr>\n",
       "      <th>2</th>\n",
       "      <td>the patch in bug regressed the fix from bug th...</td>\n",
       "      <td>2</td>\n",
       "    </tr>\n",
       "    <tr>\n",
       "      <th>3</th>\n",
       "      <td>from bugzilla helper user agent mozilla x u li...</td>\n",
       "      <td>2</td>\n",
       "    </tr>\n",
       "    <tr>\n",
       "      <th>4</th>\n",
       "      <td>i found it odd that relogin cgi didn t clear o...</td>\n",
       "      <td>1</td>\n",
       "    </tr>\n",
       "  </tbody>\n",
       "</table>\n",
       "</div>"
      ],
      "text/plain": [
       "                                    long_description  severity_code\n",
       "0   is broken many users can t enter bugs on it p...              4\n",
       "1  adding support for custom headers and cookie n...              4\n",
       "2  the patch in bug regressed the fix from bug th...              2\n",
       "3  from bugzilla helper user agent mozilla x u li...              2\n",
       "4  i found it odd that relogin cgi didn t clear o...              1"
      ]
     },
     "execution_count": 49,
     "metadata": {},
     "output_type": "execute_result"
    }
   ],
   "source": [
    "reports_data.head()"
   ]
  },
  {
   "cell_type": "code",
   "execution_count": 50,
   "id": "successful-coaching",
   "metadata": {},
   "outputs": [],
   "source": [
    "# import pre-trained DistilBERT model and tokenizer\n",
    "model_class, tokenizer_class, pretrained_weights = (ppb.DistilBertModel, ppb.DistilBertTokenizer, 'distilbert-base-uncased')"
   ]
  },
  {
   "cell_type": "code",
   "execution_count": 51,
   "id": "foreign-spice",
   "metadata": {},
   "outputs": [],
   "source": [
    "# load pretrained model/tokenizer\n",
    "tokenizer = tokenizer_class.from_pretrained(pretrained_weights)\n",
    "model = model_class.from_pretrained(pretrained_weights)"
   ]
  },
  {
   "cell_type": "code",
   "execution_count": 52,
   "id": "turned-youth",
   "metadata": {},
   "outputs": [],
   "source": [
    "max_len=64\n",
    "descriptions = reports_data['long_description'].apply((lambda s: ' '.join(s.split()[:max_len])))\n",
    "tokenized    = descriptions.apply(lambda x: tokenizer.encode(x, add_special_tokens=True))"
   ]
  },
  {
   "cell_type": "code",
   "execution_count": 53,
   "id": "collectible-serial",
   "metadata": {},
   "outputs": [],
   "source": [
    "# padding\n",
    "max_len=0\n",
    "for i in tokenized.values:\n",
    "    if len(i) > max_len:\n",
    "        max_len = len(i)\n",
    "\n",
    "padded = np.array([i + [0]*(max_len-len(i)) for i in tokenized.values])"
   ]
  },
  {
   "cell_type": "code",
   "execution_count": 54,
   "id": "micro-messaging",
   "metadata": {},
   "outputs": [
    {
     "data": {
      "text/plain": [
       "(2388, 192)"
      ]
     },
     "execution_count": 54,
     "metadata": {},
     "output_type": "execute_result"
    }
   ],
   "source": [
    "np.array(padded).shape"
   ]
  },
  {
   "cell_type": "code",
   "execution_count": 55,
   "id": "second-saskatchewan",
   "metadata": {},
   "outputs": [
    {
     "data": {
      "text/plain": [
       "(2388, 192)"
      ]
     },
     "execution_count": 55,
     "metadata": {},
     "output_type": "execute_result"
    }
   ],
   "source": [
    "# masking\n",
    "attention_mask = np.where(padded != 0, 1, 0)\n",
    "attention_mask.shape"
   ]
  },
  {
   "cell_type": "code",
   "execution_count": null,
   "id": "placed-olympus",
   "metadata": {},
   "outputs": [],
   "source": [
    "# extracting features\n",
    "input_ids = torch.tensor(padded)\n",
    "attention_mask = torch.tensor(attention_mask)\n",
    "with torch.no_grad():\n",
    "    last_hidden_states = model(input_ids, attention_mask=attention_mask)"
   ]
  },
  {
   "cell_type": "code",
   "execution_count": null,
   "id": "metropolitan-drink",
   "metadata": {},
   "outputs": [],
   "source": [
    "features = last_hidden_states[0][:,0,:].numpy()"
   ]
  },
  {
   "cell_type": "code",
   "execution_count": null,
   "id": "fleet-begin",
   "metadata": {},
   "outputs": [],
   "source": [
    "labels = reports_data['severity_code']"
   ]
  },
  {
   "cell_type": "code",
   "execution_count": null,
   "id": "effective-sydney",
   "metadata": {},
   "outputs": [],
   "source": [
    "train_features, test_features, train_labels, test_labels = train_test_split(features, labels, test_size=.25, stratify=labels)"
   ]
  },
  {
   "cell_type": "code",
   "execution_count": null,
   "id": "after-somalia",
   "metadata": {},
   "outputs": [],
   "source": [
    "reports_output_path = os.path.join('..', 'data', 'processed')\n",
    "torch.save(np.column_stack((train_features, train_labels)), \n",
    "        os.path.join(reports_output_path, 'mozilla_bug_report_train_data.pt'))\n",
    "torch.save(np.column_stack((test_features, test_labels)), \n",
    "        os.path.join(reports_output_path, 'mozilla_bug_report_test_data.pt'))"
   ]
  },
  {
   "cell_type": "code",
   "execution_count": null,
   "id": "electronic-newton",
   "metadata": {},
   "outputs": [],
   "source": []
  }
 ],
 "metadata": {
  "kernelspec": {
   "display_name": "Python 3",
   "language": "python",
   "name": "python3"
  },
  "language_info": {
   "codemirror_mode": {
    "name": "ipython",
    "version": 3
   },
   "file_extension": ".py",
   "mimetype": "text/x-python",
   "name": "python",
   "nbconvert_exporter": "python",
   "pygments_lexer": "ipython3",
   "version": "3.7.9"
  }
 },
 "nbformat": 4,
 "nbformat_minor": 5
}
