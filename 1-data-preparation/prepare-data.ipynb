{
  "nbformat": 4,
  "nbformat_minor": 0,
  "metadata": {
    "kernelspec": {
      "display_name": "Python 3",
      "language": "python",
      "name": "python3"
    },
    "language_info": {
      "codemirror_mode": {
        "name": "ipython",
        "version": 3
      },
      "file_extension": ".py",
      "mimetype": "text/x-python",
      "name": "python",
      "nbconvert_exporter": "python",
      "pygments_lexer": "ipython3",
      "version": "3.7.9"
    },
    "colab": {
      "name": "prepare-data.ipynb",
      "provenance": []
    }
  },
  "cells": [
    {
      "cell_type": "markdown",
      "metadata": {
        "id": "W-Cd8gM8yYSJ"
      },
      "source": [
        "# Data Preparation"
      ]
    },
    {
      "cell_type": "code",
      "metadata": {
        "id": "2eRK_JEFyYSv",
        "outputId": "50f703e1-b609-4225-d7de-592267c35ab0",
        "colab": {
          "base_uri": "https://localhost:8080/"
        }
      },
      "source": [
        "import re\n",
        "\n",
        "import numpy  as np\n",
        "import pandas as pd\n",
        "\n",
        "from google.colab import  drive\n",
        "drive.mount('/drive')"
      ],
      "execution_count": 42,
      "outputs": [
        {
          "output_type": "stream",
          "text": [
            "Mounted at /drive\n"
          ],
          "name": "stdout"
        }
      ]
    },
    {
      "cell_type": "code",
      "metadata": {
        "id": "gHustMIFyYS3"
      },
      "source": [
        "def clean_data_fn(text):\n",
        "    \"\"\"Clean and convert a text to store only alphabetical characters \n",
        "       in lower case.\n",
        "       \n",
        "    Args:\n",
        "        text (str): a text string.\n",
        "    \n",
        "    Returns:\n",
        "        text (str): a text string converted.\n",
        "    \"\"\"\n",
        "    text = text.lower()\n",
        "    text = re.sub(r\"([?.!,¿])\", r\" \", text)\n",
        "    text = re.sub(r'[\" \"]+', \" \", text)\n",
        "    text = re.sub(r\"[^a-zA-Z?.!,¿]+\", \" \", text)\n",
        "    text=re.sub(r'@\\w+', '',text)\n",
        "    return text\n",
        "\n",
        "def load_data_fn(file_path):\n",
        "    \"\"\"Read a bug report data set.\n",
        "\n",
        "    Args:\n",
        "        filepath (str): a complete filename path.\n",
        "\n",
        "    Returns:\n",
        "        result (dataframe): a bug report dataframe.\n",
        "\n",
        "    \"\"\"\n",
        "    reports = pd.read_csv(file_path, encoding='utf8', sep=',', parse_dates=True\n",
        "      ,low_memory=False)\n",
        "\n",
        "    reports.dropna(inplace=True)\n",
        "    reports['long_description'] = reports['long_description'].map(clean_data_fn)\n",
        "    reports['long_description'] = reports['long_description'].replace('', np.nan)\n",
        "    \n",
        "    result = reports.loc[:, ('long_description', 'severity_category')]\n",
        "    result.dropna(inplace=True)\n",
        "    result.reset_index(drop=True, inplace=True)\n",
        "\n",
        "    return result\n",
        "\n",
        "def convert_to_ordinal_fn(severity):\n",
        "    \"\"\"Convert severity category to ordinal.\n",
        "\n",
        "    Args:\n",
        "        severity (str): a severity category.\n",
        "\n",
        "    Returns:\n",
        "        severity (int): ordinal value of severity.\n",
        "    \"\"\"\n",
        "    categories={'trivial': 0,\n",
        "                'minor': 1,\n",
        "                'major': 2,\n",
        "                'critical': 3,\n",
        "                'blocker': 4}\n",
        "    return categories.get(severity, 'Invalid severity category!')\n",
        "\n",
        "    "
      ],
      "execution_count": 43,
      "outputs": []
    },
    {
      "cell_type": "code",
      "metadata": {
        "id": "6BeBU_b7yYS9",
        "colab": {
          "base_uri": "https://localhost:8080/"
        },
        "outputId": "7a7d113d-3acb-4f71-92ea-c97b50c513fa"
      },
      "source": [
        "reports_input_url = 'https://raw.githubusercontent.com/gomesluiz/bug-severity-predictor/main/data/raw/mozilla_bug_report_data.csv?token=AAGZN3E7SWOKPRFI5HBOW2TABL7O6'\n",
        "!mkdir -p '/drive/My Drive/data/raw'\n",
        "!wget -O '/drive/My Drive/data/raw/mozilla_bug_report_data.csv' {reports_input_url}\n",
        "#!head -2 {reports_input_path}"
      ],
      "execution_count": 48,
      "outputs": [
        {
          "output_type": "stream",
          "text": [
            "--2021-01-22 16:36:43--  https://raw.githubusercontent.com/gomesluiz/bug-severity-predictor/main/data/raw/mozilla_bug_report_data.csv?token=AAGZN3E7SWOKPRFI5HBOW2TABL7O6\n",
            "Resolving raw.githubusercontent.com (raw.githubusercontent.com)... 151.101.0.133, 151.101.64.133, 151.101.128.133, ...\n",
            "Connecting to raw.githubusercontent.com (raw.githubusercontent.com)|151.101.0.133|:443... connected.\n",
            "HTTP request sent, awaiting response... 200 OK\n",
            "Length: 2077348 (2.0M) [text/plain]\n",
            "Saving to: ‘/drive/My Drive/data/raw/mozilla_bug_report_data.csv’\n",
            "\n",
            "/drive/My Drive/dat 100%[===================>]   1.98M  9.20MB/s    in 0.2s    \n",
            "\n",
            "2021-01-22 16:36:43 (9.20 MB/s) - ‘/drive/My Drive/data/raw/mozilla_bug_report_data.csv’ saved [2077348/2077348]\n",
            "\n"
          ],
          "name": "stdout"
        }
      ]
    },
    {
      "cell_type": "code",
      "metadata": {
        "id": "9L-Lwst1yYTJ"
      },
      "source": [
        "reports_input_path =  '/drive/My Drive/data/raw/mozilla_bug_report_data.csv'\n",
        "reports_data = load_data_fn(reports_input_path)"
      ],
      "execution_count": 49,
      "outputs": []
    },
    {
      "cell_type": "code",
      "metadata": {
        "id": "0P9WLUbSyYTP",
        "colab": {
          "base_uri": "https://localhost:8080/",
          "height": 206
        },
        "outputId": "b81b0557-7d60-43c5-f308-a5630ef5616b"
      },
      "source": [
        "reports_data.head()"
      ],
      "execution_count": 50,
      "outputs": [
        {
          "output_type": "execute_result",
          "data": {
            "text/html": [
              "<div>\n",
              "<style scoped>\n",
              "    .dataframe tbody tr th:only-of-type {\n",
              "        vertical-align: middle;\n",
              "    }\n",
              "\n",
              "    .dataframe tbody tr th {\n",
              "        vertical-align: top;\n",
              "    }\n",
              "\n",
              "    .dataframe thead th {\n",
              "        text-align: right;\n",
              "    }\n",
              "</style>\n",
              "<table border=\"1\" class=\"dataframe\">\n",
              "  <thead>\n",
              "    <tr style=\"text-align: right;\">\n",
              "      <th></th>\n",
              "      <th>long_description</th>\n",
              "      <th>severity_category</th>\n",
              "    </tr>\n",
              "  </thead>\n",
              "  <tbody>\n",
              "    <tr>\n",
              "      <th>0</th>\n",
              "      <td>is broken many users can t enter bugs on it p...</td>\n",
              "      <td>blocker</td>\n",
              "    </tr>\n",
              "    <tr>\n",
              "      <th>1</th>\n",
              "      <td>adding support for custom headers and cookie n...</td>\n",
              "      <td>blocker</td>\n",
              "    </tr>\n",
              "    <tr>\n",
              "      <th>2</th>\n",
              "      <td>the patch in bug regressed the fix from bug th...</td>\n",
              "      <td>major</td>\n",
              "    </tr>\n",
              "    <tr>\n",
              "      <th>3</th>\n",
              "      <td>from bugzilla helper user agent mozilla x u li...</td>\n",
              "      <td>major</td>\n",
              "    </tr>\n",
              "    <tr>\n",
              "      <th>4</th>\n",
              "      <td>i found it odd that relogin cgi didn t clear o...</td>\n",
              "      <td>minor</td>\n",
              "    </tr>\n",
              "  </tbody>\n",
              "</table>\n",
              "</div>"
            ],
            "text/plain": [
              "                                    long_description severity_category\n",
              "0   is broken many users can t enter bugs on it p...           blocker\n",
              "1  adding support for custom headers and cookie n...           blocker\n",
              "2  the patch in bug regressed the fix from bug th...             major\n",
              "3  from bugzilla helper user agent mozilla x u li...             major\n",
              "4  i found it odd that relogin cgi didn t clear o...             minor"
            ]
          },
          "metadata": {
            "tags": []
          },
          "execution_count": 50
        }
      ]
    },
    {
      "cell_type": "code",
      "metadata": {
        "id": "qzt-Kbx7yYTW",
        "colab": {
          "base_uri": "https://localhost:8080/"
        },
        "outputId": "462764b3-a8fe-4f10-c925-0b1e14188930"
      },
      "source": [
        "reports_data['severity_category'].value_counts()"
      ],
      "execution_count": 51,
      "outputs": [
        {
          "output_type": "execute_result",
          "data": {
            "text/plain": [
              "major       737\n",
              "critical    605\n",
              "minor       540\n",
              "trivial     302\n",
              "blocker     204\n",
              "Name: severity_category, dtype: int64"
            ]
          },
          "metadata": {
            "tags": []
          },
          "execution_count": 51
        }
      ]
    },
    {
      "cell_type": "code",
      "metadata": {
        "id": "z1tYfs7lyYTZ"
      },
      "source": [
        "reports_data['severity_code'] = reports_data['severity_category'].apply(convert_to_ordinal_fn) "
      ],
      "execution_count": 52,
      "outputs": []
    },
    {
      "cell_type": "code",
      "metadata": {
        "id": "KOzPJq73yYTc",
        "colab": {
          "base_uri": "https://localhost:8080/",
          "height": 206
        },
        "outputId": "4d97ede1-07c4-4184-dda4-37a1ecd76d34"
      },
      "source": [
        "reports_data.head()"
      ],
      "execution_count": 53,
      "outputs": [
        {
          "output_type": "execute_result",
          "data": {
            "text/html": [
              "<div>\n",
              "<style scoped>\n",
              "    .dataframe tbody tr th:only-of-type {\n",
              "        vertical-align: middle;\n",
              "    }\n",
              "\n",
              "    .dataframe tbody tr th {\n",
              "        vertical-align: top;\n",
              "    }\n",
              "\n",
              "    .dataframe thead th {\n",
              "        text-align: right;\n",
              "    }\n",
              "</style>\n",
              "<table border=\"1\" class=\"dataframe\">\n",
              "  <thead>\n",
              "    <tr style=\"text-align: right;\">\n",
              "      <th></th>\n",
              "      <th>long_description</th>\n",
              "      <th>severity_category</th>\n",
              "      <th>severity_code</th>\n",
              "    </tr>\n",
              "  </thead>\n",
              "  <tbody>\n",
              "    <tr>\n",
              "      <th>0</th>\n",
              "      <td>is broken many users can t enter bugs on it p...</td>\n",
              "      <td>blocker</td>\n",
              "      <td>4</td>\n",
              "    </tr>\n",
              "    <tr>\n",
              "      <th>1</th>\n",
              "      <td>adding support for custom headers and cookie n...</td>\n",
              "      <td>blocker</td>\n",
              "      <td>4</td>\n",
              "    </tr>\n",
              "    <tr>\n",
              "      <th>2</th>\n",
              "      <td>the patch in bug regressed the fix from bug th...</td>\n",
              "      <td>major</td>\n",
              "      <td>2</td>\n",
              "    </tr>\n",
              "    <tr>\n",
              "      <th>3</th>\n",
              "      <td>from bugzilla helper user agent mozilla x u li...</td>\n",
              "      <td>major</td>\n",
              "      <td>2</td>\n",
              "    </tr>\n",
              "    <tr>\n",
              "      <th>4</th>\n",
              "      <td>i found it odd that relogin cgi didn t clear o...</td>\n",
              "      <td>minor</td>\n",
              "      <td>1</td>\n",
              "    </tr>\n",
              "  </tbody>\n",
              "</table>\n",
              "</div>"
            ],
            "text/plain": [
              "                                    long_description  ... severity_code\n",
              "0   is broken many users can t enter bugs on it p...  ...             4\n",
              "1  adding support for custom headers and cookie n...  ...             4\n",
              "2  the patch in bug regressed the fix from bug th...  ...             2\n",
              "3  from bugzilla helper user agent mozilla x u li...  ...             2\n",
              "4  i found it odd that relogin cgi didn t clear o...  ...             1\n",
              "\n",
              "[5 rows x 3 columns]"
            ]
          },
          "metadata": {
            "tags": []
          },
          "execution_count": 53
        }
      ]
    },
    {
      "cell_type": "code",
      "metadata": {
        "id": "YitCuT47yYTi",
        "colab": {
          "base_uri": "https://localhost:8080/"
        },
        "outputId": "ea8c0d69-b6d5-4669-80cf-f1821f2afb37"
      },
      "source": [
        "reports_data['severity_code'].value_counts()"
      ],
      "execution_count": 54,
      "outputs": [
        {
          "output_type": "execute_result",
          "data": {
            "text/plain": [
              "2    737\n",
              "3    605\n",
              "1    540\n",
              "0    302\n",
              "4    204\n",
              "Name: severity_code, dtype: int64"
            ]
          },
          "metadata": {
            "tags": []
          },
          "execution_count": 54
        }
      ]
    },
    {
      "cell_type": "code",
      "metadata": {
        "id": "2R_5QSOSyYTm"
      },
      "source": [
        "!mkdir -p '/drive/My Drive/data/clean'\n",
        "reports_output_path = '/drive/My Drive/data/clean/mozilla_bug_report_data.csv'\n",
        "reports_data[['long_description', 'severity_code']].to_csv(reports_output_path, index=False)"
      ],
      "execution_count": 57,
      "outputs": []
    },
    {
      "cell_type": "code",
      "metadata": {
        "id": "tw9tAtFGyYTw"
      },
      "source": [
        ""
      ],
      "execution_count": null,
      "outputs": []
    }
  ]
}