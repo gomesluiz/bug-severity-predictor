{
 "cells": [
  {
   "cell_type": "markdown",
   "metadata": {
    "id": "W-Cd8gM8yYSJ"
   },
   "source": [
    "# Bug Severity Predictor for Mozilla"
   ]
  },
  {
   "cell_type": "markdown",
   "metadata": {},
   "source": [
    "In this project, I'll build a severity predictor for the [Mozilla project](https://www.mozilla.org/en-US/) that uses the description of a bug report stored a in [Bugzilla Tracking System](https://bugzilla.mozilla.org/home) to predict its severity. \n",
    "\n",
    "The severity in the Mozilla project indicates how severe the problem is – from blocker (\"application unusable\") to trivial (\"minor cosmetic issue\"). Also, this field can be used to indicate whether a bug is an enhancement request. In my project, I have considered five severity levels: **trivial**, **minor**, **major**, **critical**, and **blocker**. I have ignored the default severity level (often **\"normal\"**) because this level is considered as a choice made by users when they are not sure about the correct severity level. "
   ]
  },
  {
   "cell_type": "markdown",
   "metadata": {},
   "source": [
    "## Data Preparation"
   ]
  },
  {
   "cell_type": "markdown",
   "metadata": {},
   "source": [
    "One of the first steps in any machine learning project is the data preparation that includes the data loading, noting, and cleaning the information that will be included in the working dataset. So, this notebook is all about preparing the data and noting patterns about the features you are given and the distribution of data. "
   ]
  },
  {
   "cell_type": "markdown",
   "metadata": {},
   "source": [
    "### Project setup"
   ]
  },
  {
   "cell_type": "markdown",
   "metadata": {},
   "source": [
    "The cell below will download the necessary Python packages to execute the code throughout this notebook."
   ]
  },
  {
   "cell_type": "code",
   "execution_count": 1,
   "metadata": {},
   "outputs": [],
   "source": [
    "# standard packages\n",
    "import os\n",
    "\n",
    "# local packages.\n",
    "from data_preparation import clean_data_fn, load_data_fn, convert_to_ordinal_fn"
   ]
  },
  {
   "cell_type": "markdown",
   "metadata": {},
   "source": [
    "### Read in the data"
   ]
  },
  {
   "cell_type": "markdown",
   "metadata": {},
   "source": [
    "The cell below will download the necessary data and extract the files into the folder **data/raw**.\n",
    "\n",
    "This data is a version of a dataset created by me, Ricardo Torres, and Mario Côrtes at the University of Campinas for long-lived bug prediction research. You can read all about the data collection at [Mendeley Data](https://data.mendeley.com/datasets/v446tfssgj/2).\n",
    "\n",
    "> **Citation for data:** Gomes, Luiz; Torres, Ricardo; Côrtes, Mario (2021), “A Dataset for Long-lived Bug Prediction in FLOSS ”, Mendeley Data, V2, doi: 10.17632/v446tfssgj.2"
   ]
  },
  {
   "cell_type": "code",
   "execution_count": 2,
   "metadata": {},
   "outputs": [],
   "source": [
    "reports_input_url= 'https://data.mendeley.com/public-files/datasets/v446tfssgj/files/8666b62f-ef75-45e5-89cd-f49795b9cbee/file_downloaded'\n",
    "raw_reports_path = os.path.join('..', 'data', 'raw')"
   ]
  },
  {
   "cell_type": "code",
   "execution_count": 3,
   "metadata": {
    "colab": {
     "base_uri": "https://localhost:8080/"
    },
    "id": "6BeBU_b7yYS9",
    "outputId": "7a7d113d-3acb-4f71-92ea-c97b50c513fa"
   },
   "outputs": [
    {
     "name": "stdout",
     "output_type": "stream",
     "text": [
      "--2021-01-25 10:31:52--  https://data.mendeley.com/public-files/datasets/v446tfssgj/files/8666b62f-ef75-45e5-89cd-f49795b9cbee/file_downloaded\n",
      "Loaded CA certificate '/etc/ssl/certs/ca-certificates.crt'\n",
      "Resolving data.mendeley.com (data.mendeley.com)... 162.159.133.86, 162.159.130.86\n",
      "Connecting to data.mendeley.com (data.mendeley.com)|162.159.133.86|:443... connected.\n",
      "HTTP request sent, awaiting response... 302 Found\n",
      "Location: https://md-datasets-public-files-prod.s3.eu-west-1.amazonaws.com/829a4fd4-ba89-4bc2-b4f8-5c18f49a699d [following]\n",
      "--2021-01-25 10:31:53--  https://md-datasets-public-files-prod.s3.eu-west-1.amazonaws.com/829a4fd4-ba89-4bc2-b4f8-5c18f49a699d\n",
      "Resolving md-datasets-public-files-prod.s3.eu-west-1.amazonaws.com (md-datasets-public-files-prod.s3.eu-west-1.amazonaws.com)... 52.218.88.184\n",
      "Connecting to md-datasets-public-files-prod.s3.eu-west-1.amazonaws.com (md-datasets-public-files-prod.s3.eu-west-1.amazonaws.com)|52.218.88.184|:443... connected.\n",
      "HTTP request sent, awaiting response... 200 OK\n",
      "Length: 7964553 (7.6M) [text/csv]\n",
      "Saving to: ‘../data/raw/mozilla_bug_report_data.csv’\n",
      "\n",
      "../data/raw/mozilla 100%[===================>]   7.59M  1.64MB/s    in 4.6s    \n",
      "\n",
      "2021-01-25 10:31:59 (1.64 MB/s) - ‘../data/raw/mozilla_bug_report_data.csv’ saved [7964553/7964553]\n",
      "\n"
     ]
    }
   ],
   "source": [
    "if not os.path.exists(raw_reports_path):\n",
    "    os.makedirs(reports_raw_path)\n",
    "\n",
    "raw_reports_path = os.path.join(raw_reports_path, 'mozilla_bug_report_data.csv')\n",
    "!wget -O {raw_reports_path} {reports_input_url}"
   ]
  },
  {
   "cell_type": "code",
   "execution_count": 4,
   "metadata": {},
   "outputs": [
    {
     "name": "stdout",
     "output_type": "stream",
     "text": [
      "bug_id,creation_date,component_name,product_name,short_description,long_description,assignee_name,reporter_name,resolution_category,resolution_code,status_category,status_code,update_date,quantity_of_votes,quantity_of_comments,resolution_date,bug_fix_time,severity_category,severity_code\r",
      "\r\n",
      "BUGZILLA-294734,2005-05-18,Bugzilla-General,BUGZILLA,Emergency 2.16.10 Release,\"2.16.9 is broken -- many users can't enter bugs on it particularly not from a\r\n"
     ]
    }
   ],
   "source": [
    "!head -2 {raw_reports_path}"
   ]
  },
  {
   "cell_type": "code",
   "execution_count": 5,
   "metadata": {
    "id": "9L-Lwst1yYTJ"
   },
   "outputs": [],
   "source": [
    "reports_data = load_data_fn(raw_reports_path)"
   ]
  },
  {
   "cell_type": "code",
   "execution_count": 6,
   "metadata": {},
   "outputs": [],
   "source": [
    "# filtering out bugs with normal severity level.\n",
    "reports_data = reports_data.loc[reports_data['severity_category'] != 'normal']"
   ]
  },
  {
   "cell_type": "markdown",
   "metadata": {},
   "source": [
    "#### Basic data exploration"
   ]
  },
  {
   "cell_type": "code",
   "execution_count": 7,
   "metadata": {
    "colab": {
     "base_uri": "https://localhost:8080/",
     "height": 206
    },
    "id": "0P9WLUbSyYTP",
    "outputId": "b81b0557-7d60-43c5-f308-a5630ef5616b"
   },
   "outputs": [
    {
     "data": {
      "text/html": [
       "<div>\n",
       "<style scoped>\n",
       "    .dataframe tbody tr th:only-of-type {\n",
       "        vertical-align: middle;\n",
       "    }\n",
       "\n",
       "    .dataframe tbody tr th {\n",
       "        vertical-align: top;\n",
       "    }\n",
       "\n",
       "    .dataframe thead th {\n",
       "        text-align: right;\n",
       "    }\n",
       "</style>\n",
       "<table border=\"1\" class=\"dataframe\">\n",
       "  <thead>\n",
       "    <tr style=\"text-align: right;\">\n",
       "      <th></th>\n",
       "      <th>long_description</th>\n",
       "      <th>severity_category</th>\n",
       "    </tr>\n",
       "  </thead>\n",
       "  <tbody>\n",
       "    <tr>\n",
       "      <th>0</th>\n",
       "      <td>is broken many users can t enter bugs on it p...</td>\n",
       "      <td>blocker</td>\n",
       "    </tr>\n",
       "    <tr>\n",
       "      <th>2</th>\n",
       "      <td>adding support for custom headers and cookie n...</td>\n",
       "      <td>blocker</td>\n",
       "    </tr>\n",
       "    <tr>\n",
       "      <th>9</th>\n",
       "      <td>the patch in bug regressed the fix from bug th...</td>\n",
       "      <td>major</td>\n",
       "    </tr>\n",
       "    <tr>\n",
       "      <th>15</th>\n",
       "      <td>from bugzilla helper user agent mozilla x u li...</td>\n",
       "      <td>major</td>\n",
       "    </tr>\n",
       "    <tr>\n",
       "      <th>20</th>\n",
       "      <td>i found it odd that relogin cgi didn t clear o...</td>\n",
       "      <td>minor</td>\n",
       "    </tr>\n",
       "  </tbody>\n",
       "</table>\n",
       "</div>"
      ],
      "text/plain": [
       "                                     long_description severity_category\n",
       "0    is broken many users can t enter bugs on it p...           blocker\n",
       "2   adding support for custom headers and cookie n...           blocker\n",
       "9   the patch in bug regressed the fix from bug th...             major\n",
       "15  from bugzilla helper user agent mozilla x u li...             major\n",
       "20  i found it odd that relogin cgi didn t clear o...             minor"
      ]
     },
     "execution_count": 7,
     "metadata": {},
     "output_type": "execute_result"
    }
   ],
   "source": [
    "reports_data.head()"
   ]
  },
  {
   "cell_type": "code",
   "execution_count": 8,
   "metadata": {
    "colab": {
     "base_uri": "https://localhost:8080/"
    },
    "id": "qzt-Kbx7yYTW",
    "outputId": "462764b3-a8fe-4f10-c925-0b1e14188930"
   },
   "outputs": [
    {
     "data": {
      "text/plain": [
       "major       737\n",
       "critical    605\n",
       "minor       540\n",
       "trivial     302\n",
       "blocker     204\n",
       "Name: severity_category, dtype: int64"
      ]
     },
     "execution_count": 8,
     "metadata": {},
     "output_type": "execute_result"
    }
   ],
   "source": [
    "reports_data['severity_category'].value_counts()"
   ]
  },
  {
   "cell_type": "markdown",
   "metadata": {},
   "source": [
    "### Data conversion"
   ]
  },
  {
   "cell_type": "markdown",
   "metadata": {},
   "source": [
    "The cell below will convert the categorial severity level to ordinal according to the following conversion table:\n",
    "\n",
    "| severity category | ordinal code | \n",
    "| :---------------- | -----------: |\n",
    "| trivial | 0 |\n",
    "| minor | 1 |\n",
    "| major | 2 |\n",
    "| critical | 3 |\n",
    "| blocker | 4 |"
   ]
  },
  {
   "cell_type": "code",
   "execution_count": 9,
   "metadata": {
    "id": "z1tYfs7lyYTZ"
   },
   "outputs": [],
   "source": [
    "reports_data['severity_code'] = reports_data['severity_category'].apply(convert_to_ordinal_fn) "
   ]
  },
  {
   "cell_type": "code",
   "execution_count": 10,
   "metadata": {
    "colab": {
     "base_uri": "https://localhost:8080/",
     "height": 206
    },
    "id": "KOzPJq73yYTc",
    "outputId": "4d97ede1-07c4-4184-dda4-37a1ecd76d34"
   },
   "outputs": [
    {
     "data": {
      "text/html": [
       "<div>\n",
       "<style scoped>\n",
       "    .dataframe tbody tr th:only-of-type {\n",
       "        vertical-align: middle;\n",
       "    }\n",
       "\n",
       "    .dataframe tbody tr th {\n",
       "        vertical-align: top;\n",
       "    }\n",
       "\n",
       "    .dataframe thead th {\n",
       "        text-align: right;\n",
       "    }\n",
       "</style>\n",
       "<table border=\"1\" class=\"dataframe\">\n",
       "  <thead>\n",
       "    <tr style=\"text-align: right;\">\n",
       "      <th></th>\n",
       "      <th>long_description</th>\n",
       "      <th>severity_category</th>\n",
       "      <th>severity_code</th>\n",
       "    </tr>\n",
       "  </thead>\n",
       "  <tbody>\n",
       "    <tr>\n",
       "      <th>0</th>\n",
       "      <td>is broken many users can t enter bugs on it p...</td>\n",
       "      <td>blocker</td>\n",
       "      <td>4</td>\n",
       "    </tr>\n",
       "    <tr>\n",
       "      <th>2</th>\n",
       "      <td>adding support for custom headers and cookie n...</td>\n",
       "      <td>blocker</td>\n",
       "      <td>4</td>\n",
       "    </tr>\n",
       "    <tr>\n",
       "      <th>9</th>\n",
       "      <td>the patch in bug regressed the fix from bug th...</td>\n",
       "      <td>major</td>\n",
       "      <td>2</td>\n",
       "    </tr>\n",
       "    <tr>\n",
       "      <th>15</th>\n",
       "      <td>from bugzilla helper user agent mozilla x u li...</td>\n",
       "      <td>major</td>\n",
       "      <td>2</td>\n",
       "    </tr>\n",
       "    <tr>\n",
       "      <th>20</th>\n",
       "      <td>i found it odd that relogin cgi didn t clear o...</td>\n",
       "      <td>minor</td>\n",
       "      <td>1</td>\n",
       "    </tr>\n",
       "  </tbody>\n",
       "</table>\n",
       "</div>"
      ],
      "text/plain": [
       "                                     long_description severity_category  \\\n",
       "0    is broken many users can t enter bugs on it p...           blocker   \n",
       "2   adding support for custom headers and cookie n...           blocker   \n",
       "9   the patch in bug regressed the fix from bug th...             major   \n",
       "15  from bugzilla helper user agent mozilla x u li...             major   \n",
       "20  i found it odd that relogin cgi didn t clear o...             minor   \n",
       "\n",
       "    severity_code  \n",
       "0               4  \n",
       "2               4  \n",
       "9               2  \n",
       "15              2  \n",
       "20              1  "
      ]
     },
     "execution_count": 10,
     "metadata": {},
     "output_type": "execute_result"
    }
   ],
   "source": [
    "reports_data.head()"
   ]
  },
  {
   "cell_type": "code",
   "execution_count": 11,
   "metadata": {
    "colab": {
     "base_uri": "https://localhost:8080/"
    },
    "id": "YitCuT47yYTi",
    "outputId": "ea8c0d69-b6d5-4669-80cf-f1821f2afb37"
   },
   "outputs": [
    {
     "data": {
      "text/plain": [
       "2    737\n",
       "3    605\n",
       "1    540\n",
       "0    302\n",
       "4    204\n",
       "Name: severity_code, dtype: int64"
      ]
     },
     "execution_count": 11,
     "metadata": {},
     "output_type": "execute_result"
    }
   ],
   "source": [
    "reports_data['severity_code'].value_counts()"
   ]
  },
  {
   "cell_type": "markdown",
   "metadata": {},
   "source": [
    "### Export data cleaned"
   ]
  },
  {
   "cell_type": "code",
   "execution_count": 12,
   "metadata": {},
   "outputs": [],
   "source": [
    "cleaned_reports_path = os.path.join('..', 'data', 'cleaned')"
   ]
  },
  {
   "cell_type": "code",
   "execution_count": 13,
   "metadata": {},
   "outputs": [],
   "source": [
    "if not os.path.exists(cleaned_reports_path):\n",
    "    os.makedirs(cleaned_reports_path)"
   ]
  },
  {
   "cell_type": "code",
   "execution_count": 14,
   "metadata": {
    "id": "2R_5QSOSyYTm"
   },
   "outputs": [],
   "source": [
    "cleaned_reports_path = os.path.join(cleaned_reports_path, 'mozilla_bug_report_data.csv')\n",
    "reports_data[['long_description', 'severity_code']].to_csv(cleaned_reports_path, index=False)"
   ]
  }
 ],
 "metadata": {
  "colab": {
   "name": "prepare-data.ipynb",
   "provenance": []
  },
  "kernelspec": {
   "display_name": "Python 3",
   "language": "python",
   "name": "python3"
  },
  "language_info": {
   "codemirror_mode": {
    "name": "ipython",
    "version": 3
   },
   "file_extension": ".py",
   "mimetype": "text/x-python",
   "name": "python",
   "nbconvert_exporter": "python",
   "pygments_lexer": "ipython3",
   "version": "3.7.9"
  }
 },
 "nbformat": 4,
 "nbformat_minor": 1
}
