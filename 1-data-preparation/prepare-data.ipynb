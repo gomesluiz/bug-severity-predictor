{
 "cells": [
  {
   "cell_type": "markdown",
   "metadata": {},
   "source": [
    "# Data Preparation"
   ]
  },
  {
   "cell_type": "code",
   "execution_count": 60,
   "metadata": {},
   "outputs": [],
   "source": [
    "import re\n",
    "\n",
    "import numpy  as np\n",
    "import pandas as pd"
   ]
  },
  {
   "cell_type": "code",
   "execution_count": 87,
   "metadata": {},
   "outputs": [],
   "source": [
    "def clean_data_fn(text):\n",
    "    \"\"\"Clean and convert a text to store only alphabetical characters \n",
    "       in lower case.\n",
    "       \n",
    "    Args:\n",
    "        text (str): a text string.\n",
    "    \n",
    "    Returns:\n",
    "        text (str): a text string converted.\n",
    "    \"\"\"\n",
    "    text = text.lower()\n",
    "    text = re.sub(r\"([?.!,¿])\", r\" \", text)\n",
    "    text = re.sub(r'[\" \"]+', \" \", text)\n",
    "    text = re.sub(r\"[^a-zA-Z?.!,¿]+\", \" \", text)\n",
    "    text=re.sub(r'@\\w+', '',text)\n",
    "    return text\n",
    "\n",
    "def load_data_fn(file_path):\n",
    "    \"\"\"Read a bug report data set.\n",
    "\n",
    "    Args:\n",
    "        filepath (str): a complete filename path.\n",
    "\n",
    "    Returns:\n",
    "        result (dataframe): a bug report dataframe.\n",
    "\n",
    "    \"\"\"\n",
    "    reports = pd.read_csv(file_path, encoding='utf8', sep=',', parse_dates=True\n",
    "      ,low_memory=False)\n",
    "\n",
    "    reports.dropna(inplace=True)\n",
    "    reports['long_description'] = reports['long_description'].map(clean_data_fn)\n",
    "    reports['long_description'] = reports['long_description'].replace('', np.nan)\n",
    "    \n",
    "    result = reports.loc[:, ('long_description', 'severity_category')]\n",
    "    result.dropna(inplace=True)\n",
    "    result.reset_index(drop=True, inplace=True)\n",
    "\n",
    "    return result\n",
    "\n",
    "def convert_to_ordinal_fn(severity):\n",
    "    \"\"\"Convert severity category to ordinal.\n",
    "\n",
    "    Args:\n",
    "        severity (str): a severity category.\n",
    "\n",
    "    Returns:\n",
    "        severity (int): ordinal value of severity.\n",
    "    \"\"\"\n",
    "    categories={'trivial': 0,\n",
    "                'minor': 1,\n",
    "                'major': 2,\n",
    "                'critical': 3,\n",
    "                'blocker': 4}\n",
    "    return categories.get(severity, 'Invalid severity category!')\n",
    "\n",
    "    "
   ]
  },
  {
   "cell_type": "code",
   "execution_count": 88,
   "metadata": {},
   "outputs": [
    {
     "name": "stdout",
     "output_type": "stream",
     "text": [
      "bug_id,long_description,severity_category\r\n",
      "BUGZILLA-294734,\"2.16.9 is broken -- many users can't enter bugs on it particularly not from a\r\n"
     ]
    }
   ],
   "source": [
    "reports_input_path = '../data/raw/mozilla_bug_report_data.csv'\n",
    "!head -2 {reports_input_path}"
   ]
  },
  {
   "cell_type": "code",
   "execution_count": 89,
   "metadata": {},
   "outputs": [],
   "source": [
    "reports_data = load_data_fn(reports_input_path)"
   ]
  },
  {
   "cell_type": "code",
   "execution_count": 90,
   "metadata": {},
   "outputs": [
    {
     "data": {
      "text/html": [
       "<div>\n",
       "<style scoped>\n",
       "    .dataframe tbody tr th:only-of-type {\n",
       "        vertical-align: middle;\n",
       "    }\n",
       "\n",
       "    .dataframe tbody tr th {\n",
       "        vertical-align: top;\n",
       "    }\n",
       "\n",
       "    .dataframe thead th {\n",
       "        text-align: right;\n",
       "    }\n",
       "</style>\n",
       "<table border=\"1\" class=\"dataframe\">\n",
       "  <thead>\n",
       "    <tr style=\"text-align: right;\">\n",
       "      <th></th>\n",
       "      <th>long_description</th>\n",
       "      <th>severity_category</th>\n",
       "    </tr>\n",
       "  </thead>\n",
       "  <tbody>\n",
       "    <tr>\n",
       "      <th>0</th>\n",
       "      <td>is broken many users can t enter bugs on it p...</td>\n",
       "      <td>blocker</td>\n",
       "    </tr>\n",
       "    <tr>\n",
       "      <th>1</th>\n",
       "      <td>adding support for custom headers and cookie n...</td>\n",
       "      <td>blocker</td>\n",
       "    </tr>\n",
       "    <tr>\n",
       "      <th>2</th>\n",
       "      <td>the patch in bug regressed the fix from bug th...</td>\n",
       "      <td>major</td>\n",
       "    </tr>\n",
       "    <tr>\n",
       "      <th>3</th>\n",
       "      <td>from bugzilla helper user agent mozilla x u li...</td>\n",
       "      <td>major</td>\n",
       "    </tr>\n",
       "    <tr>\n",
       "      <th>4</th>\n",
       "      <td>i found it odd that relogin cgi didn t clear o...</td>\n",
       "      <td>minor</td>\n",
       "    </tr>\n",
       "  </tbody>\n",
       "</table>\n",
       "</div>"
      ],
      "text/plain": [
       "                                    long_description severity_category\n",
       "0   is broken many users can t enter bugs on it p...           blocker\n",
       "1  adding support for custom headers and cookie n...           blocker\n",
       "2  the patch in bug regressed the fix from bug th...             major\n",
       "3  from bugzilla helper user agent mozilla x u li...             major\n",
       "4  i found it odd that relogin cgi didn t clear o...             minor"
      ]
     },
     "execution_count": 90,
     "metadata": {},
     "output_type": "execute_result"
    }
   ],
   "source": [
    "reports_data.head()"
   ]
  },
  {
   "cell_type": "code",
   "execution_count": 91,
   "metadata": {},
   "outputs": [
    {
     "data": {
      "text/plain": [
       "major       737\n",
       "critical    605\n",
       "minor       540\n",
       "trivial     302\n",
       "blocker     204\n",
       "Name: severity_category, dtype: int64"
      ]
     },
     "execution_count": 91,
     "metadata": {},
     "output_type": "execute_result"
    }
   ],
   "source": [
    "reports_data['severity_category'].value_counts()"
   ]
  },
  {
   "cell_type": "code",
   "execution_count": 92,
   "metadata": {},
   "outputs": [],
   "source": [
    "reports_data['severity_code'] = reports_data['severity_category'].apply(convert_to_ordinal_fn) "
   ]
  },
  {
   "cell_type": "code",
   "execution_count": 93,
   "metadata": {},
   "outputs": [
    {
     "data": {
      "text/html": [
       "<div>\n",
       "<style scoped>\n",
       "    .dataframe tbody tr th:only-of-type {\n",
       "        vertical-align: middle;\n",
       "    }\n",
       "\n",
       "    .dataframe tbody tr th {\n",
       "        vertical-align: top;\n",
       "    }\n",
       "\n",
       "    .dataframe thead th {\n",
       "        text-align: right;\n",
       "    }\n",
       "</style>\n",
       "<table border=\"1\" class=\"dataframe\">\n",
       "  <thead>\n",
       "    <tr style=\"text-align: right;\">\n",
       "      <th></th>\n",
       "      <th>long_description</th>\n",
       "      <th>severity_category</th>\n",
       "      <th>severity_code</th>\n",
       "    </tr>\n",
       "  </thead>\n",
       "  <tbody>\n",
       "    <tr>\n",
       "      <th>0</th>\n",
       "      <td>is broken many users can t enter bugs on it p...</td>\n",
       "      <td>blocker</td>\n",
       "      <td>4</td>\n",
       "    </tr>\n",
       "    <tr>\n",
       "      <th>1</th>\n",
       "      <td>adding support for custom headers and cookie n...</td>\n",
       "      <td>blocker</td>\n",
       "      <td>4</td>\n",
       "    </tr>\n",
       "    <tr>\n",
       "      <th>2</th>\n",
       "      <td>the patch in bug regressed the fix from bug th...</td>\n",
       "      <td>major</td>\n",
       "      <td>2</td>\n",
       "    </tr>\n",
       "    <tr>\n",
       "      <th>3</th>\n",
       "      <td>from bugzilla helper user agent mozilla x u li...</td>\n",
       "      <td>major</td>\n",
       "      <td>2</td>\n",
       "    </tr>\n",
       "    <tr>\n",
       "      <th>4</th>\n",
       "      <td>i found it odd that relogin cgi didn t clear o...</td>\n",
       "      <td>minor</td>\n",
       "      <td>1</td>\n",
       "    </tr>\n",
       "  </tbody>\n",
       "</table>\n",
       "</div>"
      ],
      "text/plain": [
       "                                    long_description severity_category  \\\n",
       "0   is broken many users can t enter bugs on it p...           blocker   \n",
       "1  adding support for custom headers and cookie n...           blocker   \n",
       "2  the patch in bug regressed the fix from bug th...             major   \n",
       "3  from bugzilla helper user agent mozilla x u li...             major   \n",
       "4  i found it odd that relogin cgi didn t clear o...             minor   \n",
       "\n",
       "   severity_code  \n",
       "0              4  \n",
       "1              4  \n",
       "2              2  \n",
       "3              2  \n",
       "4              1  "
      ]
     },
     "execution_count": 93,
     "metadata": {},
     "output_type": "execute_result"
    }
   ],
   "source": [
    "reports_data.head()"
   ]
  },
  {
   "cell_type": "code",
   "execution_count": 94,
   "metadata": {},
   "outputs": [
    {
     "data": {
      "text/plain": [
       "2    737\n",
       "3    605\n",
       "1    540\n",
       "0    302\n",
       "4    204\n",
       "Name: severity_code, dtype: int64"
      ]
     },
     "execution_count": 94,
     "metadata": {},
     "output_type": "execute_result"
    }
   ],
   "source": [
    "reports_data['severity_code'].value_counts()"
   ]
  },
  {
   "cell_type": "code",
   "execution_count": 95,
   "metadata": {},
   "outputs": [],
   "source": [
    "reports_output_path = '../data/clean/mozilla_bug_report_data.csv'\n",
    "reports_data[['long_description', 'severity_code']].to_csv(reports_output_path, index=False)"
   ]
  },
  {
   "cell_type": "code",
   "execution_count": 96,
   "metadata": {},
   "outputs": [
    {
     "name": "stdout",
     "output_type": "stream",
     "text": [
      "long_description,severity_code\r\n",
      " is broken many users can t enter bugs on it particularly not from a fresh install so we need to pull and post a instead ,4\r\n"
     ]
    }
   ],
   "source": [
    "!head -2 {reports_output_path}"
   ]
  },
  {
   "cell_type": "code",
   "execution_count": null,
   "metadata": {},
   "outputs": [],
   "source": []
  }
 ],
 "metadata": {
  "kernelspec": {
   "display_name": "Python 3",
   "language": "python",
   "name": "python3"
  },
  "language_info": {
   "codemirror_mode": {
    "name": "ipython",
    "version": 3
   },
   "file_extension": ".py",
   "mimetype": "text/x-python",
   "name": "python",
   "nbconvert_exporter": "python",
   "pygments_lexer": "ipython3",
   "version": "3.7.9"
  }
 },
 "nbformat": 4,
 "nbformat_minor": 4
}
