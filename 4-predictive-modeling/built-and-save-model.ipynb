{
  "nbformat": 4,
  "nbformat_minor": 0,
  "metadata": {
    "kernelspec": {
      "display_name": "Python 3",
      "language": "python",
      "name": "python3"
    },
    "language_info": {
      "codemirror_mode": {
        "name": "ipython",
        "version": 3
      },
      "file_extension": ".py",
      "mimetype": "text/x-python",
      "name": "python",
      "nbconvert_exporter": "python",
      "pygments_lexer": "ipython3",
      "version": "3.7.9"
    },
    "colab": {
      "name": "Untitled.ipynb",
      "provenance": []
    }
  },
  "cells": [
    {
      "cell_type": "code",
      "metadata": {
        "id": "wdLIqBsPTDBc",
        "colab": {
          "base_uri": "https://localhost:8080/"
        },
        "outputId": "830417bc-b9b5-4438-f005-47b334356e39"
      },
      "source": [
        "import os \n",
        "import sys\n",
        "\n",
        "import matplotlib.pyplot as plt\n",
        "import numpy as np\n",
        "import pandas as pd\n",
        "import torch \n",
        "import xgboost as xgb \n",
        "\n",
        "from hyperopt import STATUS_OK, Trials, fmin, hp, tpe\n",
        "from sklearn.metrics import classification_report, confusion_matrix, f1_score, log_loss\n",
        "from sklearn.model_selection import GridSearchCV, StratifiedKFold\n",
        "\n",
        "from google.colab import drive\n",
        "drive.mount('/drive')"
      ],
      "execution_count": 1,
      "outputs": [
        {
          "output_type": "stream",
          "text": [
            "Mounted at /drive\n"
          ],
          "name": "stdout"
        }
      ]
    },
    {
      "cell_type": "code",
      "metadata": {
        "id": "B3wtCPGYTDCC"
      },
      "source": [
        "def load_data(file_path):\n",
        "    \"\"\"Load pytorch tensor data from file\n",
        "\n",
        "    Args:\n",
        "        filepath (str): a full filename path.\n",
        "\n",
        "    Returns:\n",
        "        X (array): a numpy array of features.\n",
        "        y (array): a numpy array of labels.\n",
        "    \"\"\"\n",
        "    tensors = torch.load(file_path)\n",
        "    X = tensors[:, :-1].copy()\n",
        "    y = tensors[:, -1].copy().astype(int)\n",
        "\n",
        "    return (X, y)"
      ],
      "execution_count": 2,
      "outputs": []
    },
    {
      "cell_type": "code",
      "metadata": {
        "id": "3_YrS8MZTDCI"
      },
      "source": [
        "tensors_input_path = os.path.join('/', 'drive', 'My Drive', 'data', 'processed')\n",
        "X_train, y_train   = load_data(os.path.join(tensors_input_path, 'mozilla_bug_report_train_data.pt'))\n",
        "X_test, y_test   = load_data(os.path.join(tensors_input_path, 'mozilla_bug_report_test_data.pt'))"
      ],
      "execution_count": 3,
      "outputs": []
    },
    {
      "cell_type": "code",
      "metadata": {
        "id": "5xkbtD1HTDCN"
      },
      "source": [
        "def score(params):\n",
        "    print(\"Training with params : \")\n",
        "    print(params)\n",
        "    \n",
        "    num_round = int(params['n_estimators'])\n",
        "    del params['n_estimators']\n",
        "   \n",
        "    dtrain = xgb.DMatrix(X_train, label=y_train)\n",
        "    dvalid = xgb.DMatrix(X_test, label=y_test)\n",
        "    model  = xgb.train(params, dtrain, num_round)\n",
        "    \n",
        "    predictions = model.predict(dvalid).reshape((X_test.shape[0], 5))\n",
        "    \n",
        "    score = log_loss(y_test, predictions)\n",
        "    print(\"\\tScore {0}\\n\\n\".format(score))\n",
        "    return {'loss': score, 'status': STATUS_OK}\n",
        "\n",
        "def optimize(trials):\n",
        "    space = {\n",
        "             'n_estimators' : hp.quniform('n_estimators', 100, 1000, 1),\n",
        "             'eta' : hp.quniform('eta', 0.025, 0.5, 0.025),\n",
        "             'max_depth' : hp.choice('max_depth', np.arange(1, 14, dtype=int)),\n",
        "             'min_child_weight' : hp.quniform('min_child_weight', 1, 6, 1),\n",
        "             'subsample' : hp.quniform('subsample', 0.5, 1, 0.05),\n",
        "             'gamma' : hp.quniform('gamma', 0.5, 1, 0.05),\n",
        "             'colsample_bytree' : hp.quniform('colsample_bytree', 0.5, 1, 0.05),\n",
        "             'num_class' : 5,\n",
        "             'eval_metric': 'mlogloss',\n",
        "             'objective': 'multi:softprob',\n",
        "             'nthread' : 6,\n",
        "             'silent' : 1\n",
        "             }\n",
        "\n",
        "    best = fmin(score, space, algo=tpe.suggest, trials=trials, max_evals=10)\n",
        "\n",
        "    print(best)"
      ],
      "execution_count": 4,
      "outputs": []
    },
    {
      "cell_type": "code",
      "metadata": {
        "id": "ByIGD1xXTDCS",
        "colab": {
          "base_uri": "https://localhost:8080/"
        },
        "outputId": "f15a51b3-dfad-45ec-8d22-2f550efe6a11"
      },
      "source": [
        "trials = Trials()\n",
        "\n",
        "optimize(trials)"
      ],
      "execution_count": 5,
      "outputs": [
        {
          "output_type": "stream",
          "text": [
            "Training with params : \n",
            "{'colsample_bytree': 1.0, 'eta': 0.2, 'eval_metric': 'mlogloss', 'gamma': 0.9, 'max_depth': 3, 'min_child_weight': 2.0, 'n_estimators': 331.0, 'nthread': 6, 'num_class': 5, 'objective': 'multi:softprob', 'silent': 1, 'subsample': 0.9}\n",
            "\tScore 1.5058132455050945\n",
            "\n",
            "\n",
            "Training with params : \n",
            "{'colsample_bytree': 0.9, 'eta': 0.275, 'eval_metric': 'mlogloss', 'gamma': 0.9, 'max_depth': 10, 'min_child_weight': 4.0, 'n_estimators': 995.0, 'nthread': 6, 'num_class': 5, 'objective': 'multi:softprob', 'silent': 1, 'subsample': 0.9}\n",
            "\tScore 1.5060499279797077\n",
            "\n",
            "\n",
            "Training with params : \n",
            "{'colsample_bytree': 0.55, 'eta': 0.07500000000000001, 'eval_metric': 'mlogloss', 'gamma': 0.5, 'max_depth': 9, 'min_child_weight': 2.0, 'n_estimators': 699.0, 'nthread': 6, 'num_class': 5, 'objective': 'multi:softprob', 'silent': 1, 'subsample': 0.8500000000000001}\n",
            "\tScore 1.41951287278533\n",
            "\n",
            "\n",
            "Training with params : \n",
            "{'colsample_bytree': 1.0, 'eta': 0.25, 'eval_metric': 'mlogloss', 'gamma': 0.6000000000000001, 'max_depth': 2, 'min_child_weight': 6.0, 'n_estimators': 557.0, 'nthread': 6, 'num_class': 5, 'objective': 'multi:softprob', 'silent': 1, 'subsample': 0.65}\n",
            "\tScore 1.5729953414425253\n",
            "\n",
            "\n",
            "Training with params : \n",
            "{'colsample_bytree': 1.0, 'eta': 0.125, 'eval_metric': 'mlogloss', 'gamma': 1.0, 'max_depth': 7, 'min_child_weight': 5.0, 'n_estimators': 983.0, 'nthread': 6, 'num_class': 5, 'objective': 'multi:softprob', 'silent': 1, 'subsample': 0.6000000000000001}\n",
            "\tScore 1.4637353099286556\n",
            "\n",
            "\n",
            "Training with params : \n",
            "{'colsample_bytree': 0.65, 'eta': 0.275, 'eval_metric': 'mlogloss', 'gamma': 0.65, 'max_depth': 1, 'min_child_weight': 4.0, 'n_estimators': 474.0, 'nthread': 6, 'num_class': 5, 'objective': 'multi:softprob', 'silent': 1, 'subsample': 0.9}\n",
            "\tScore 1.5856787582859397\n",
            "\n",
            "\n",
            "Training with params : \n",
            "{'colsample_bytree': 0.8500000000000001, 'eta': 0.1, 'eval_metric': 'mlogloss', 'gamma': 0.65, 'max_depth': 5, 'min_child_weight': 3.0, 'n_estimators': 171.0, 'nthread': 6, 'num_class': 5, 'objective': 'multi:softprob', 'silent': 1, 'subsample': 0.55}\n",
            "\tScore 1.4450872091650964\n",
            "\n",
            "\n",
            "Training with params : \n",
            "{'colsample_bytree': 0.5, 'eta': 0.25, 'eval_metric': 'mlogloss', 'gamma': 0.55, 'max_depth': 4, 'min_child_weight': 4.0, 'n_estimators': 512.0, 'nthread': 6, 'num_class': 5, 'objective': 'multi:softprob', 'silent': 1, 'subsample': 0.7000000000000001}\n",
            "\tScore 1.5969734825193882\n",
            "\n",
            "\n",
            "Training with params : \n",
            "{'colsample_bytree': 0.55, 'eta': 0.07500000000000001, 'eval_metric': 'mlogloss', 'gamma': 0.65, 'max_depth': 7, 'min_child_weight': 5.0, 'n_estimators': 815.0, 'nthread': 6, 'num_class': 5, 'objective': 'multi:softprob', 'silent': 1, 'subsample': 0.7000000000000001}\n",
            "\tScore 1.4376664160192012\n",
            "\n",
            "\n",
            "Training with params : \n",
            "{'colsample_bytree': 0.6000000000000001, 'eta': 0.17500000000000002, 'eval_metric': 'mlogloss', 'gamma': 0.6000000000000001, 'max_depth': 13, 'min_child_weight': 1.0, 'n_estimators': 285.0, 'nthread': 6, 'num_class': 5, 'objective': 'multi:softprob', 'silent': 1, 'subsample': 0.8}\n",
            "\tScore 1.493712474346161\n",
            "\n",
            "\n",
            "100%|██████████| 10/10 [13:11<00:00, 79.12s/it, best loss: 1.41951287278533]\n",
            "{'colsample_bytree': 0.55, 'eta': 0.07500000000000001, 'gamma': 0.5, 'max_depth': 8, 'min_child_weight': 2.0, 'n_estimators': 699.0, 'subsample': 0.8500000000000001}\n"
          ],
          "name": "stdout"
        }
      ]
    },
    {
      "cell_type": "code",
      "metadata": {
        "id": "QeeEAS6WTDCe"
      },
      "source": [
        "dtrain = xgb.DMatrix(X_train, label=y_train)\n",
        "dvalid = xgb.DMatrix(X_test, label=y_test)\n",
        "model = xgb.train({'colsample_bytree': 0.65, \n",
        "                   'eta': 0.07500000000000001, \n",
        "                   'gamma': 0.55, \n",
        "                   'max_depth': 6, \n",
        "                   'min_child_weight': 6.0, \n",
        "                   'n_estimators': 581.0, \n",
        "                   'subsample': 0.8500000000000001,\n",
        "                   'objective': 'multi:softmax',\n",
        "                   'num_class': 5}, dtrain, 581)\n",
        "y_pred = model.predict(dvalid).astype(int)\n"
      ],
      "execution_count": 6,
      "outputs": []
    },
    {
      "cell_type": "code",
      "metadata": {
        "id": "uae4as3mTDCu",
        "colab": {
          "base_uri": "https://localhost:8080/"
        },
        "outputId": "596884a6-a5eb-4e8c-a943-a8ea1ae49342"
      },
      "source": [
        "print(classification_report(y_test, y_pred, zero_division=0))"
      ],
      "execution_count": 7,
      "outputs": [
        {
          "output_type": "stream",
          "text": [
            "              precision    recall  f1-score   support\n",
            "\n",
            "           0       0.50      0.22      0.30        32\n",
            "           1       0.39      0.33      0.36        54\n",
            "           2       0.37      0.45      0.40        76\n",
            "           3       0.40      0.56      0.47        64\n",
            "           4       0.25      0.08      0.12        24\n",
            "\n",
            "    accuracy                           0.39       250\n",
            "   macro avg       0.38      0.33      0.33       250\n",
            "weighted avg       0.39      0.39      0.37       250\n",
            "\n"
          ],
          "name": "stdout"
        }
      ]
    },
    {
      "cell_type": "code",
      "metadata": {
        "id": "R-vPaGgMTDCy"
      },
      "source": [
        "#import joblib\n",
        "model_output_path = os.path.join('/', 'drive', 'My Drive', 'data', 'processed', 'final-model.bin')\n",
        "model.save_model(model_output_path)"
      ],
      "execution_count": 10,
      "outputs": []
    },
    {
      "cell_type": "code",
      "metadata": {
        "id": "SabpOpdtIuwz"
      },
      "source": [
        "import pickle\n",
        "pickle.dump(model, open(model_output_path, \"wb\"))"
      ],
      "execution_count": 11,
      "outputs": []
    },
    {
      "cell_type": "code",
      "metadata": {
        "id": "GmtvOK-jI3Mz"
      },
      "source": [
        ""
      ],
      "execution_count": null,
      "outputs": []
    }
  ]
}