{
 "cells": [
  {
   "cell_type": "code",
   "execution_count": 5,
   "id": "fourth-gilbert",
   "metadata": {},
   "outputs": [],
   "source": [
    "import matplotlib.pyplot as plt\n",
    "import pandas  as pd\n",
    "import seaborn as sns "
   ]
  },
  {
   "cell_type": "code",
   "execution_count": 28,
   "id": "entire-associate",
   "metadata": {},
   "outputs": [],
   "source": [
    "reports = pd.read_csv('../data/raw/mozilla_bug_report_data.csv')"
   ]
  },
  {
   "cell_type": "code",
   "execution_count": 33,
   "id": "respected-classics",
   "metadata": {},
   "outputs": [
    {
     "data": {
      "text/html": [
       "<div>\n",
       "<style scoped>\n",
       "    .dataframe tbody tr th:only-of-type {\n",
       "        vertical-align: middle;\n",
       "    }\n",
       "\n",
       "    .dataframe tbody tr th {\n",
       "        vertical-align: top;\n",
       "    }\n",
       "\n",
       "    .dataframe thead th {\n",
       "        text-align: right;\n",
       "    }\n",
       "</style>\n",
       "<table border=\"1\" class=\"dataframe\">\n",
       "  <thead>\n",
       "    <tr style=\"text-align: right;\">\n",
       "      <th></th>\n",
       "      <th>bug_id</th>\n",
       "      <th>long_description</th>\n",
       "      <th>severity_category</th>\n",
       "    </tr>\n",
       "  </thead>\n",
       "  <tbody>\n",
       "    <tr>\n",
       "      <th>0</th>\n",
       "      <td>BUGZILLA-294734</td>\n",
       "      <td>2.16.9 is broken -- many users can't enter bug...</td>\n",
       "      <td>blocker</td>\n",
       "    </tr>\n",
       "    <tr>\n",
       "      <th>1</th>\n",
       "      <td>SUPPORT.MOZILLA.ORG-398246</td>\n",
       "      <td>Adding support for custom headers and cookie n...</td>\n",
       "      <td>blocker</td>\n",
       "    </tr>\n",
       "    <tr>\n",
       "      <th>2</th>\n",
       "      <td>CORE-254510</td>\n",
       "      <td>The patch in bug 253597 regressed the fix from...</td>\n",
       "      <td>major</td>\n",
       "    </tr>\n",
       "    <tr>\n",
       "      <th>3</th>\n",
       "      <td>CORE-128371</td>\n",
       "      <td>From Bugzilla Helper:\\nUser-Agent: Mozilla/5.0...</td>\n",
       "      <td>major</td>\n",
       "    </tr>\n",
       "    <tr>\n",
       "      <th>4</th>\n",
       "      <td>BUGZILLA-58242</td>\n",
       "      <td>I found it odd that relogin.cgi didn't clear o...</td>\n",
       "      <td>minor</td>\n",
       "    </tr>\n",
       "  </tbody>\n",
       "</table>\n",
       "</div>"
      ],
      "text/plain": [
       "                       bug_id  \\\n",
       "0             BUGZILLA-294734   \n",
       "1  SUPPORT.MOZILLA.ORG-398246   \n",
       "2                 CORE-254510   \n",
       "3                 CORE-128371   \n",
       "4              BUGZILLA-58242   \n",
       "\n",
       "                                    long_description severity_category  \n",
       "0  2.16.9 is broken -- many users can't enter bug...           blocker  \n",
       "1  Adding support for custom headers and cookie n...           blocker  \n",
       "2  The patch in bug 253597 regressed the fix from...             major  \n",
       "3  From Bugzilla Helper:\\nUser-Agent: Mozilla/5.0...             major  \n",
       "4  I found it odd that relogin.cgi didn't clear o...             minor  "
      ]
     },
     "execution_count": 33,
     "metadata": {},
     "output_type": "execute_result"
    }
   ],
   "source": [
    "reports.head()"
   ]
  },
  {
   "cell_type": "code",
   "execution_count": 34,
   "id": "wound-pressing",
   "metadata": {},
   "outputs": [
    {
     "data": {
      "text/plain": [
       "(2395, 3)"
      ]
     },
     "execution_count": 34,
     "metadata": {},
     "output_type": "execute_result"
    }
   ],
   "source": [
    "reports.shape"
   ]
  },
  {
   "cell_type": "code",
   "execution_count": 35,
   "id": "played-ethnic",
   "metadata": {},
   "outputs": [
    {
     "data": {
      "text/plain": [
       "<seaborn.axisgrid.FacetGrid at 0x7ffb3cbb5a90>"
      ]
     },
     "execution_count": 35,
     "metadata": {},
     "output_type": "execute_result"
    },
    {
     "data": {
      "image/png": "[encoded data removed]",
      "text/plain": [
       "<Figure size 720x360 with 1 Axes>"
      ]
     },
     "metadata": {
      "needs_background": "light"
     },
     "output_type": "display_data"
    }
   ],
   "source": [
    "ax=sns.catplot(data=reports\n",
    "              , x=\"severity_category\"\n",
    "              , height=5\n",
    "              , aspect=2\n",
    "              , kind=\"count\")\n",
    "sns.despine(offset=5)\n",
    "\n",
    "ax.set(ylim=(0, 800))"
   ]
  },
  {
   "cell_type": "code",
   "execution_count": null,
   "id": "molecular-fishing",
   "metadata": {},
   "outputs": [],
   "source": []
  }
 ],
 "metadata": {
  "kernelspec": {
   "display_name": "Python 3",
   "language": "python",
   "name": "python3"
  },
  "language_info": {
   "codemirror_mode": {
    "name": "ipython",
    "version": 3
   },
   "file_extension": ".py",
   "mimetype": "text/x-python",
   "name": "python",
   "nbconvert_exporter": "python",
   "pygments_lexer": "ipython3",
   "version": "3.7.9"
  }
 },
 "nbformat": 4,
 "nbformat_minor": 5
}
