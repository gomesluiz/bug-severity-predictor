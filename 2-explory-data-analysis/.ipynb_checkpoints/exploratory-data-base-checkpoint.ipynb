{
 "cells": [
  {
   "cell_type": "code",
   "execution_count": 1,
   "id": "static-assumption",
   "metadata": {},
   "outputs": [],
   "source": [
    "import pandas  as pd\n",
    "import seaborn as sns "
   ]
  },
  {
   "cell_type": "code",
   "execution_count": 7,
   "id": "quarterly-score",
   "metadata": {},
   "outputs": [],
   "source": [
    "reports = pd.read_csv('../data/raw/mozilla_bug_report_data.csv')"
   ]
  },
  {
   "cell_type": "code",
   "execution_count": 8,
   "id": "cordless-prisoner",
   "metadata": {},
   "outputs": [
    {
     "data": {
      "text/html": [
       "<div>\n",
       "<style scoped>\n",
       "    .dataframe tbody tr th:only-of-type {\n",
       "        vertical-align: middle;\n",
       "    }\n",
       "\n",
       "    .dataframe tbody tr th {\n",
       "        vertical-align: top;\n",
       "    }\n",
       "\n",
       "    .dataframe thead th {\n",
       "        text-align: right;\n",
       "    }\n",
       "</style>\n",
       "<table border=\"1\" class=\"dataframe\">\n",
       "  <thead>\n",
       "    <tr style=\"text-align: right;\">\n",
       "      <th></th>\n",
       "      <th>bug_id</th>\n",
       "      <th>long_description</th>\n",
       "      <th>severity_category</th>\n",
       "    </tr>\n",
       "  </thead>\n",
       "  <tbody>\n",
       "    <tr>\n",
       "      <th>0</th>\n",
       "      <td>BUGZILLA-294734</td>\n",
       "      <td>2.16.9 is broken -- many users can't enter bug...</td>\n",
       "      <td>blocker</td>\n",
       "    </tr>\n",
       "    <tr>\n",
       "      <th>1</th>\n",
       "      <td>OTHER_APPLICATIONS-363323</td>\n",
       "      <td>From comment in url:\\n\\nCurrent code:\\nmenuite...</td>\n",
       "      <td>normal</td>\n",
       "    </tr>\n",
       "    <tr>\n",
       "      <th>2</th>\n",
       "      <td>SUPPORT.MOZILLA.ORG-398246</td>\n",
       "      <td>Adding support for custom headers and cookie n...</td>\n",
       "      <td>blocker</td>\n",
       "    </tr>\n",
       "    <tr>\n",
       "      <th>3</th>\n",
       "      <td>RELEASE_ENGINEERING-525991</td>\n",
       "      <td>NaN</td>\n",
       "      <td>normal</td>\n",
       "    </tr>\n",
       "    <tr>\n",
       "      <th>4</th>\n",
       "      <td>OTHER_APPLICATIONS-318859</td>\n",
       "      <td>User-Agent:       Mozilla/5.0 (Macintosh U PPC...</td>\n",
       "      <td>normal</td>\n",
       "    </tr>\n",
       "  </tbody>\n",
       "</table>\n",
       "</div>"
      ],
      "text/plain": [
       "                       bug_id  \\\n",
       "0             BUGZILLA-294734   \n",
       "1   OTHER_APPLICATIONS-363323   \n",
       "2  SUPPORT.MOZILLA.ORG-398246   \n",
       "3  RELEASE_ENGINEERING-525991   \n",
       "4   OTHER_APPLICATIONS-318859   \n",
       "\n",
       "                                    long_description severity_category  \n",
       "0  2.16.9 is broken -- many users can't enter bug...           blocker  \n",
       "1  From comment in url:\\n\\nCurrent code:\\nmenuite...            normal  \n",
       "2  Adding support for custom headers and cookie n...           blocker  \n",
       "3                                                NaN            normal  \n",
       "4  User-Agent:       Mozilla/5.0 (Macintosh U PPC...            normal  "
      ]
     },
     "execution_count": 8,
     "metadata": {},
     "output_type": "execute_result"
    }
   ],
   "source": [
    "reports.head()"
   ]
  },
  {
   "cell_type": "raw",
   "id": "personalized-timber",
   "metadata": {},
   "source": []
  }
 ],
 "metadata": {
  "kernelspec": {
   "display_name": "Python 3",
   "language": "python",
   "name": "python3"
  },
  "language_info": {
   "codemirror_mode": {
    "name": "ipython",
    "version": 3
   },
   "file_extension": ".py",
   "mimetype": "text/x-python",
   "name": "python",
   "nbconvert_exporter": "python",
   "pygments_lexer": "ipython3",
   "version": "3.7.9"
  }
 },
 "nbformat": 4,
 "nbformat_minor": 5
}
